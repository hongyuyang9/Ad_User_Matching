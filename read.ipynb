{
 "cells": [
  {
   "cell_type": "markdown",
   "metadata": {},
   "source": [
    "## Read Data from .txt file"
   ]
  },
  {
   "cell_type": "code",
   "execution_count": 7,
   "metadata": {},
   "outputs": [],
   "source": [
    "columns = ['label'] + [f'I{i}' for i in range(1, 14)] + [f'C{i}' for i in range(1, 27)]"
   ]
  },
  {
   "cell_type": "code",
   "execution_count": null,
   "metadata": {},
   "outputs": [],
   "source": [
    "import pandas as pd\n",
    "\n",
    "\n",
    "df = pd.read_csv('day_11_sample_1m.txt', sep='\\t', names=columns, na_values=[''])\n",
    "\n",
    "\n",
    "for col in [f'I{i}' for i in range(1, 14)]:\n",
    "    df[col] = pd.to_numeric(df[col], errors='coerce')\n"
   ]
  },
  {
   "cell_type": "code",
   "execution_count": null,
   "metadata": {},
   "outputs": [
    {
     "name": "stdout",
     "output_type": "stream",
     "text": [
      "   label     I1     I2    I3    I4    I5   I6   I7   I8  I9  ...       C17  \\\n",
      "0      0    NaN    NaN   0.0   0.0   NaN  1.0  0.0  124   0  ...  d20856aa   \n",
      "1      0  118.0    NaN  11.0   NaN   NaN  0.0  0.0    1  15  ...  1f7fc70b   \n",
      "2      0    3.0  234.0  12.0  14.0  23.0  0.0  0.0  570  12  ...       NaN   \n",
      "3      0   10.0    8.0   4.0   NaN   NaN  0.0  0.0    1   2  ...  1f7fc70b   \n",
      "4      0    NaN   45.0   NaN   7.0   2.0  NaN  0.0   26   0  ...  d20856aa   \n",
      "\n",
      "        C18       C19       C20       C21       C22       C23       C24  \\\n",
      "0  7232d217  9512c20b  6c8c076c  174c2fe8  b32f71aa  59f8acf3  f3a1835d   \n",
      "1  b8170bba  9512c20b  ffae69ed  4ac01130  97ec4657  db4454d6  47fe9e6f   \n",
      "2  b8170bba  9512c20b  dbf29097  b7c0f1a7  e3e2dc3f       NaN  7cc1f2ce   \n",
      "3  d9fd9ab1  9512c20b  727fe02c  4f0b32e1  67bd4c5e  cb09f492  35eb9d54   \n",
      "4  b8170bba  9512c20b  c09c8dc4  0dab03ac  f9630b49  673f629c  2b2f24e9   \n",
      "\n",
      "        C25       C26  \n",
      "0  30436bfc  b757e957  \n",
      "1  337b81aa  962813c6  \n",
      "2  30436bfc  2ccea557  \n",
      "3  30436bfc  ed10571d  \n",
      "4  ff654802  ed10571d  \n",
      "\n",
      "[5 rows x 40 columns]\n",
      "label         0\n",
      "I1       191083\n",
      "I2        91433\n",
      "I3       254850\n",
      "I4       418788\n",
      "I5       403282\n",
      "I6        89880\n",
      "I7        32693\n",
      "I8            0\n",
      "I9            0\n",
      "I10       89880\n",
      "I11      403282\n",
      "I12        6396\n",
      "I13      254850\n",
      "C1        41056\n",
      "C2            0\n",
      "C3            0\n",
      "C4            0\n",
      "C5            0\n",
      "C6            0\n",
      "C7            0\n",
      "C8            0\n",
      "C9            0\n",
      "C10       41056\n",
      "C11       41056\n",
      "C12           0\n",
      "C13           0\n",
      "C14      369457\n",
      "C15           0\n",
      "C16      369457\n",
      "C17      369457\n",
      "C18           0\n",
      "C19           0\n",
      "C20       41056\n",
      "C21       41056\n",
      "C22       41056\n",
      "C23      369457\n",
      "C24           0\n",
      "C25           0\n",
      "C26           0\n",
      "dtype: int64\n"
     ]
    }
   ],
   "source": [
    "print(df.head())\n",
    "print(df.isnull().sum())\n"
   ]
  },
  {
   "cell_type": "code",
   "execution_count": 10,
   "metadata": {},
   "outputs": [
    {
     "name": "stdout",
     "output_type": "stream",
     "text": [
      "    label     I1      I2    I3     I4    I5    I6   I7   I8  I9  ...  \\\n",
      "6       0  396.0  1061.0   4.0   43.0   8.0   5.0  0.0    1  43  ...   \n",
      "8       0    7.0    98.0   1.0  127.0   2.0   0.0  0.0   11   1  ...   \n",
      "14      0   10.0   212.0   4.0  187.0  12.0   0.0  0.0    1  32  ...   \n",
      "19      0    6.0   109.0   8.0   11.0   7.0   4.0  1.0    8  12  ...   \n",
      "21      1  605.0  2114.0  10.0    0.0  63.0  40.0  0.0  123  46  ...   \n",
      "\n",
      "         C17       C18       C19       C20       C21       C22       C23  \\\n",
      "6   d20856aa  a1eb1511  9512c20b  dfb0fa4a  7e7ea51d  6cf302bd  00636f85   \n",
      "8   753da5f3  b8170bba  0a1d513f  89023f80  d3049ad5  f5f85510  bf8c0d9d   \n",
      "14  1f7fc70b  a1eb1511  b49a729d  02cf4cb0  387ffe8e  71fd9aa3  5293f6b1   \n",
      "19  753da5f3  a1eb1511  9512c20b  aa407b28  fb964222  016c9169  29730278   \n",
      "21  d20856aa  628f1b8d  9512c20b  0e29b5da  0683bc6f  47b99d80  6c9c1aa8   \n",
      "\n",
      "         C24       C25       C26  \n",
      "6   9a907b27  321935cd  6c730e3e  \n",
      "8   ac98eac5  991321ea  b757e957  \n",
      "14  10faae8f  ff654802  b757e957  \n",
      "19  a6815071  d0b1afa5  b757e957  \n",
      "21  6e6f29cc  ff654802  b757e957  \n",
      "\n",
      "[5 rows x 40 columns]\n",
      "177364\n"
     ]
    }
   ],
   "source": [
    "df = df.dropna()\n",
    "print(df.head())\n",
    "print(len(df))"
   ]
  }
 ],
 "metadata": {
  "kernelspec": {
   "display_name": "base",
   "language": "python",
   "name": "python3"
  },
  "language_info": {
   "codemirror_mode": {
    "name": "ipython",
    "version": 3
   },
   "file_extension": ".py",
   "mimetype": "text/x-python",
   "name": "python",
   "nbconvert_exporter": "python",
   "pygments_lexer": "ipython3",
   "version": "3.11.8"
  }
 },
 "nbformat": 4,
 "nbformat_minor": 2
}
