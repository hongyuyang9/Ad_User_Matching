{
 "cells": [
  {
   "cell_type": "markdown",
   "metadata": {},
   "source": [
    "## Read Data from .txt file"
   ]
  },
  {
   "cell_type": "code",
   "execution_count": 24,
   "metadata": {},
   "outputs": [],
   "source": [
    "columns = ['label'] + [f'I{i}' for i in range(1, 14)] + [f'C{i}' for i in range(1, 27)]"
   ]
  },
  {
   "cell_type": "code",
   "execution_count": 25,
   "metadata": {},
   "outputs": [],
   "source": [
    "import pandas as pd\n",
    "\n",
    "\n",
    "df = pd.read_csv('day_1_sample_1m.txt', sep='\\t', names=columns, na_values=[''])\n",
    "\n",
    "\n",
    "for col in [f'I{i}' for i in range(1, 14)]:\n",
    "    df[col] = pd.to_numeric(df[col], errors='coerce')\n"
   ]
  },
  {
   "cell_type": "code",
   "execution_count": 26,
   "metadata": {},
   "outputs": [
    {
     "name": "stdout",
     "output_type": "stream",
     "text": [
      "   label    I1     I2   I3     I4   I5   I6   I7   I8  I9  ...       C17  \\\n",
      "0      0   1.0   14.0  5.0   16.0  NaN  0.0  0.0    7   5  ...       NaN   \n",
      "1      0   1.0    7.0  NaN   29.0  7.0  0.0  0.0  567  28  ...  d20856aa   \n",
      "2      0  40.0   66.0  8.0   52.0  1.0  0.0  0.0   74   9  ...  1f7fc70b   \n",
      "3      1   5.0  406.0  5.0  155.0  3.0  0.0  0.0    9  26  ...  d20856aa   \n",
      "4      0   NaN  323.0  NaN    NaN  NaN  0.0  0.0   -1  17  ...  d20856aa   \n",
      "\n",
      "        C18       C19       C20       C21       C22       C23       C24  \\\n",
      "0  a1eb1511  9512c20b  6e458f2a  7e98b867  bc184765       NaN  4d260962   \n",
      "1  b8170bba  9512c20b  083f581c  5731c43e  be98cd91  b5d2988c  4dcdcc95   \n",
      "2  b7febce5  9512c20b  8e085d1c  013fcab7  3cb267bb  ace495b1  da50f6fa   \n",
      "3  2d243b56  9512c20b  c38e2f28  14f65a5d  25b1b089  d7c1fc0b  bc35dcb6   \n",
      "4  b8170bba  9512c20b  083f581c  5731c43e  be98cd91  b5d2988c  d6291fda   \n",
      "\n",
      "        C25       C26  \n",
      "0  337b81aa  b757e957  \n",
      "1  ff654802  ed10571d  \n",
      "2  ff654802  b757e957  \n",
      "3  30436bfc  ed10571d  \n",
      "4  991321ea  ed10571d  \n",
      "\n",
      "[5 rows x 40 columns]\n"
     ]
    }
   ],
   "source": [
    "print(df.head())\n",
    "\n"
   ]
  },
  {
   "cell_type": "code",
   "execution_count": 27,
   "metadata": {},
   "outputs": [
    {
     "name": "stdout",
     "output_type": "stream",
     "text": [
      "label         0\n",
      "I1       193473\n",
      "I2        87338\n",
      "I3       251329\n",
      "I4       430809\n",
      "I5       407476\n",
      "I6        88323\n",
      "I7        33204\n",
      "I8            0\n",
      "I9            0\n",
      "I10       88323\n",
      "I11      407476\n",
      "I12       12452\n",
      "I13      251329\n",
      "C1        31898\n",
      "C2            0\n",
      "C3            0\n",
      "C4            0\n",
      "C5            0\n",
      "C6            0\n",
      "C7            0\n",
      "C8            0\n",
      "C9            0\n",
      "C10       31898\n",
      "C11       31898\n",
      "C12           0\n",
      "C13           0\n",
      "C14      378469\n",
      "C15           0\n",
      "C16      378469\n",
      "C17      378469\n",
      "C18           0\n",
      "C19           0\n",
      "C20       31898\n",
      "C21       31898\n",
      "C22       31898\n",
      "C23      378469\n",
      "C24           0\n",
      "C25           0\n",
      "C26           0\n",
      "dtype: int64\n"
     ]
    }
   ],
   "source": [
    "print(df.isnull().sum())"
   ]
  },
  {
   "cell_type": "markdown",
   "metadata": {},
   "source": [
    "### Method 1: Remove all NA rows."
   ]
  },
  {
   "cell_type": "code",
   "execution_count": 28,
   "metadata": {},
   "outputs": [
    {
     "name": "stdout",
     "output_type": "stream",
     "text": [
      "    label    I1     I2   I3     I4    I5   I6   I7  I8  I9  ...       C17  \\\n",
      "2       0  40.0   66.0  8.0   52.0   1.0  0.0  0.0  74   9  ...  1f7fc70b   \n",
      "3       1   5.0  406.0  5.0  155.0   3.0  0.0  0.0   9  26  ...  d20856aa   \n",
      "7       0   1.0   97.0  1.0    8.0   1.0  0.0  1.0  58   3  ...  d20856aa   \n",
      "11      0  14.0  462.0  8.0    5.0  12.0  7.0  0.0   6  30  ...  d20856aa   \n",
      "12      0  24.0   82.0  1.0  133.0   3.0  0.0  0.0   0   1  ...  1f7fc70b   \n",
      "\n",
      "         C18       C19       C20       C21       C22       C23       C24  \\\n",
      "2   b7febce5  9512c20b  8e085d1c  013fcab7  3cb267bb  ace495b1  da50f6fa   \n",
      "3   2d243b56  9512c20b  c38e2f28  14f65a5d  25b1b089  d7c1fc0b  bc35dcb6   \n",
      "7   b8170bba  9512c20b  083f581c  5731c43e  be98cd91  583e86ea  d7b3dff0   \n",
      "11  b8170bba  9512c20b  c38e2f28  14f65a5d  25b1b089  d7c1fc0b  3f7e8c77   \n",
      "12  8dde252e  9512c20b  bff35e42  4337610f  01af027b  7c114569  2b20beea   \n",
      "\n",
      "         C25       C26  \n",
      "2   ff654802  b757e957  \n",
      "3   30436bfc  ed10571d  \n",
      "7   30436bfc  b757e957  \n",
      "11  30436bfc  ed10571d  \n",
      "12  cdc3217e  b757e957  \n",
      "\n",
      "[5 rows x 40 columns]\n",
      "166384\n"
     ]
    }
   ],
   "source": [
    "df_rm_na = df.dropna()\n",
    "print(df_rm_na.head())\n",
    "print(len(df_rm_na))"
   ]
  },
  {
   "cell_type": "markdown",
   "metadata": {},
   "source": [
    "### Method 2: Fill NA with 0"
   ]
  },
  {
   "cell_type": "code",
   "execution_count": 29,
   "metadata": {},
   "outputs": [
    {
     "name": "stdout",
     "output_type": "stream",
     "text": [
      "   label    I1     I2   I3     I4   I5   I6   I7   I8  I9  ...       C17  \\\n",
      "0      0   1.0   14.0  5.0   16.0  0.0  0.0  0.0    7   5  ...         0   \n",
      "1      0   1.0    7.0  0.0   29.0  7.0  0.0  0.0  567  28  ...  d20856aa   \n",
      "2      0  40.0   66.0  8.0   52.0  1.0  0.0  0.0   74   9  ...  1f7fc70b   \n",
      "3      1   5.0  406.0  5.0  155.0  3.0  0.0  0.0    9  26  ...  d20856aa   \n",
      "4      0   0.0  323.0  0.0    0.0  0.0  0.0  0.0   -1  17  ...  d20856aa   \n",
      "\n",
      "        C18       C19       C20       C21       C22       C23       C24  \\\n",
      "0  a1eb1511  9512c20b  6e458f2a  7e98b867  bc184765         0  4d260962   \n",
      "1  b8170bba  9512c20b  083f581c  5731c43e  be98cd91  b5d2988c  4dcdcc95   \n",
      "2  b7febce5  9512c20b  8e085d1c  013fcab7  3cb267bb  ace495b1  da50f6fa   \n",
      "3  2d243b56  9512c20b  c38e2f28  14f65a5d  25b1b089  d7c1fc0b  bc35dcb6   \n",
      "4  b8170bba  9512c20b  083f581c  5731c43e  be98cd91  b5d2988c  d6291fda   \n",
      "\n",
      "        C25       C26  \n",
      "0  337b81aa  b757e957  \n",
      "1  ff654802  ed10571d  \n",
      "2  ff654802  b757e957  \n",
      "3  30436bfc  ed10571d  \n",
      "4  991321ea  ed10571d  \n",
      "\n",
      "[5 rows x 40 columns]\n"
     ]
    }
   ],
   "source": [
    "df_f0 = df.fillna(0)\n",
    "print(df_f0.head())"
   ]
  },
  {
   "cell_type": "markdown",
   "metadata": {},
   "source": [
    "### Method 3: Fill NA with Mean"
   ]
  },
  {
   "cell_type": "code",
   "execution_count": 30,
   "metadata": {},
   "outputs": [],
   "source": [
    "df_mean_mode = df\n"
   ]
  },
  {
   "cell_type": "markdown",
   "metadata": {},
   "source": [
    "First variable: Label "
   ]
  },
  {
   "cell_type": "code",
   "execution_count": 31,
   "metadata": {},
   "outputs": [
    {
     "name": "stdout",
     "output_type": "stream",
     "text": [
      "label\n",
      "0    969972\n",
      "1     30028\n",
      "Name: count, dtype: int64\n"
     ]
    }
   ],
   "source": [
    "print(df['label'].value_counts())"
   ]
  },
  {
   "cell_type": "code",
   "execution_count": 32,
   "metadata": {},
   "outputs": [
    {
     "name": "stdout",
     "output_type": "stream",
     "text": [
      "Number of unique values per column:\n",
      "label         2\n",
      "I1         2216\n",
      "I2         6323\n",
      "I3          245\n",
      "I4         5469\n",
      "I5         1248\n",
      "I6          231\n",
      "I7          126\n",
      "I8         4033\n",
      "I9           87\n",
      "I10           9\n",
      "I11         141\n",
      "I12       89108\n",
      "I13         462\n",
      "C1       177275\n",
      "C2        12499\n",
      "C3        12022\n",
      "C4         4841\n",
      "C5        12439\n",
      "C6            3\n",
      "C7         5991\n",
      "C8         1144\n",
      "C9           35\n",
      "C10      134525\n",
      "C11       34692\n",
      "C12       36189\n",
      "C13          10\n",
      "C14        1879\n",
      "C15        5454\n",
      "C16          53\n",
      "C17           3\n",
      "C18         698\n",
      "C19          14\n",
      "C20      185642\n",
      "C21       79596\n",
      "C22      162845\n",
      "C23       29887\n",
      "C24        7882\n",
      "C25          56\n",
      "C26          33\n",
      "dtype: int64\n"
     ]
    }
   ],
   "source": [
    "unique_counts = df.nunique()\n",
    "print(\"Number of unique values per column:\")\n",
    "print(unique_counts)"
   ]
  },
  {
   "cell_type": "markdown",
   "metadata": {},
   "source": [
    "## Sampling"
   ]
  },
  {
   "cell_type": "code",
   "execution_count": 36,
   "metadata": {},
   "outputs": [],
   "source": [
    "num_users = 5000\n",
    "num_advertisers = 1000\n",
    "\n",
    "sampled_user_ids = df['C1'].dropna().unique()\n",
    "sampled_user_ids = pd.Series(sampled_user_ids).sample(n=num_users, random_state=42)\n",
    "\n",
    "sampled_advertiser_ids = df['C2'].unique()\n",
    "sampled_advertiser_ids = pd.Series(sampled_advertiser_ids).sample(n=num_advertisers, random_state=42)\n"
   ]
  },
  {
   "cell_type": "code",
   "execution_count": 37,
   "metadata": {},
   "outputs": [],
   "source": [
    "df_sampled = df[\n",
    "    df['C1'].isin(sampled_user_ids) |\n",
    "    df['C2'].isin(sampled_advertiser_ids)\n",
    "]"
   ]
  },
  {
   "cell_type": "code",
   "execution_count": 38,
   "metadata": {},
   "outputs": [
    {
     "name": "stdout",
     "output_type": "stream",
     "text": [
      "Original CTR: 0.030028000\n",
      "Sampled CTR: 0.025497765\n"
     ]
    }
   ],
   "source": [
    "original_ctr = df['label'].mean()\n",
    "\n",
    "\n",
    "sampled_ctr = df_sampled['label'].mean()\n",
    "\n",
    "print(f'Original CTR: {original_ctr:.9f}')\n",
    "print(f'Sampled CTR: {sampled_ctr:.9f}')"
   ]
  },
  {
   "cell_type": "code",
   "execution_count": 45,
   "metadata": {},
   "outputs": [],
   "source": [
    "def evaluate_sampling_ctr(df, user_col='C1', adv_col='C2', label_col='label', random_state=42):\n",
    "\n",
    "    \n",
    "    sample_configs = [\n",
    "        (1000, 500),\n",
    "        (2000, 800),\n",
    "        (3000, 1000),\n",
    "        (4000, 1200),\n",
    "        (5000, 1500),\n",
    "        (6000, 2000),\n",
    "        (7000, 2500),\n",
    "        (8000, 3000),\n",
    "        (9000, 3500),\n",
    "        (10000, 4000),\n",
    "        (10000, 3000),\n",
    "        (10000, 2000), \n",
    "        (10000, 1500),\n",
    "        (17000, 1200)\n",
    "    ]\n",
    "\n",
    "    \n",
    "    original_ctr = df[label_col].mean()\n",
    "\n",
    "    results = []\n",
    "\n",
    "    for user_n, adv_n in sample_configs:\n",
    "        \n",
    "        sampled_users = df[user_col].dropna().unique()\n",
    "        if len(sampled_users) < user_n:\n",
    "            sampled_users = sampled_users\n",
    "        else:\n",
    "            sampled_users = pd.Series(sampled_users).sample(n=user_n, random_state=random_state)\n",
    "\n",
    "        \n",
    "        sampled_advs = df[adv_col].dropna().unique()\n",
    "        if len(sampled_advs) < adv_n:\n",
    "            sampled_advs = sampled_advs\n",
    "        else:\n",
    "            sampled_advs = pd.Series(sampled_advs).sample(n=adv_n, random_state=random_state)\n",
    "\n",
    "        \n",
    "        df_sampled = df[\n",
    "            df[user_col].isin(sampled_users) |\n",
    "            df[adv_col].isin(sampled_advs)\n",
    "        ]\n",
    "\n",
    "        \n",
    "        sampled_ctr = df_sampled[label_col].mean()\n",
    "\n",
    "        results.append({\n",
    "            'Users': user_n,\n",
    "            'Advertisers': adv_n,\n",
    "            'Sample Size': len(df_sampled),\n",
    "            'Sampled CTR (%)': round(sampled_ctr * 100, 9),\n",
    "            'Original CTR (%)': round(original_ctr * 100, 9),\n",
    "            'CTR Difference (%)': round((sampled_ctr - original_ctr) * 100, 9)\n",
    "        })\n",
    "\n",
    "    result_df = pd.DataFrame(results)\n",
    "    return result_df\n"
   ]
  },
  {
   "cell_type": "code",
   "execution_count": 46,
   "metadata": {},
   "outputs": [
    {
     "name": "stdout",
     "output_type": "stream",
     "text": [
      "    Users  Advertisers  Sample Size  Sampled CTR (%)  Original CTR (%)  \\\n",
      "0    1000          500        72331         1.910661            3.0028   \n",
      "1    2000          800        94569         2.429972            3.0028   \n",
      "2    3000         1000       113048         2.515746            3.0028   \n",
      "3    4000         1200       128051         2.655973            3.0028   \n",
      "4    5000         1500       235767         2.582635            3.0028   \n",
      "5    6000         2000       264121         2.684376            3.0028   \n",
      "6    7000         2500       298911         2.708499            3.0028   \n",
      "7    8000         3000       334594         2.798018            3.0028   \n",
      "8    9000         3500       372078         2.925462            3.0028   \n",
      "9   10000         4000       402453         2.998363            3.0028   \n",
      "10  10000         3000       337907         2.801363            3.0028   \n",
      "11  10000         2000       273535         2.698741            3.0028   \n",
      "12  10000         1500       250608         2.651950            3.0028   \n",
      "13  17000         1200       159824         2.833116            3.0028   \n",
      "\n",
      "    CTR Difference (%)  \n",
      "0            -1.092139  \n",
      "1            -0.572828  \n",
      "2            -0.487054  \n",
      "3            -0.346827  \n",
      "4            -0.420165  \n",
      "5            -0.318424  \n",
      "6            -0.294301  \n",
      "7            -0.204782  \n",
      "8            -0.077338  \n",
      "9            -0.004437  \n",
      "10           -0.201437  \n",
      "11           -0.304059  \n",
      "12           -0.350850  \n",
      "13           -0.169684  \n"
     ]
    }
   ],
   "source": [
    "ctr_comparison = evaluate_sampling_ctr(df)\n",
    "\n",
    "\n",
    "print(ctr_comparison)"
   ]
  }
 ],
 "metadata": {
  "kernelspec": {
   "display_name": "base",
   "language": "python",
   "name": "python3"
  },
  "language_info": {
   "codemirror_mode": {
    "name": "ipython",
    "version": 3
   },
   "file_extension": ".py",
   "mimetype": "text/x-python",
   "name": "python",
   "nbconvert_exporter": "python",
   "pygments_lexer": "ipython3",
   "version": "3.11.8"
  }
 },
 "nbformat": 4,
 "nbformat_minor": 2
}
